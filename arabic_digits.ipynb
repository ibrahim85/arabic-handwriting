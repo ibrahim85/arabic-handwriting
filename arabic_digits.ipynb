{
  "cells": [
    {
      "metadata": {
        "_uuid": "8f2839f25d086af736a60e9eeb907d3b93b6e0e5",
        "_cell_guid": "b1076dfc-b9ad-4769-8c92-a6c4dae69d19",
        "trusted": true
      },
      "cell_type": "code",
      "source": "# This Python 3 environment comes with many helpful analytics libraries installed\n# It is defined by the kaggle/python docker image: https://github.com/kaggle/docker-python\n# For example, here's several helpful packages to load in \n\nimport numpy as np # linear algebra\nimport pandas as pd # data processing, CSV file I/O (e.g. pd.read_csv)\n\n# Input data files are available in the \"../input/\" directory.\n# For example, running this (by clicking run or pressing Shift+Enter) will list the files in the input directory\nimport torch \nimport torch.nn as nn\nimport torch.nn.functional as F\nimport torch.optim as optim\nimport torchvision.datasets as dsets\nfrom skimage import transform\nimport torchvision.transforms as transforms\nfrom torch.autograd import Variable\nimport pandas as pd;\nimport numpy as np;\nfrom torch.utils.data import Dataset, DataLoader\n#from vis_utils import *\nimport random;\nimport math;\nimport matplotlib.pyplot as plt\n\nimport os\nprint(os.listdir(\"../input\"))\n\n# Any results you write to the current directory are saved as output.",
      "execution_count": 3,
      "outputs": [
        {
          "output_type": "stream",
          "text": "['labeled-test-data', 'labeled-dataset', 'ahdd1']\n",
          "name": "stdout"
        }
      ]
    },
    {
      "metadata": {
        "_cell_guid": "79c7e3d0-c299-4dcb-8224-4455121ee9b0",
        "_uuid": "d629ff2d2480ee46fbb7e2d37f6b5fab8052498a",
        "trusted": true
      },
      "cell_type": "code",
      "source": "#data = pd.read_csv(\"../input/labeled-dataset/csvTrainImagesWLabels.csv\", header=None) \n#data.head()",
      "execution_count": null,
      "outputs": []
    },
    {
      "metadata": {
        "trusted": true,
        "_uuid": "f01291d3c9f44b6e35adc40d14bed82604237f48"
      },
      "cell_type": "code",
      "source": "#from https://medium.com/ml2vec/intro-to-pytorch-with-image-classification-on-a-fashion-clothes-dataset-e589682df0c5",
      "execution_count": null,
      "outputs": []
    },
    {
      "metadata": {
        "trusted": true,
        "_uuid": "598176f5ac34ce00d7501c911127089736616802"
      },
      "cell_type": "code",
      "source": "",
      "execution_count": null,
      "outputs": []
    },
    {
      "metadata": {
        "trusted": true,
        "_uuid": "64262aa5dc7f275f9bf4e0b93f9bb62f330fa554"
      },
      "cell_type": "code",
      "source": "",
      "execution_count": 4,
      "outputs": []
    },
    {
      "metadata": {
        "trusted": true,
        "_uuid": "fc003c268c2a0a004272eeee9e3da1815fbf685a"
      },
      "cell_type": "code",
      "source": "",
      "execution_count": null,
      "outputs": []
    },
    {
      "metadata": {
        "trusted": true,
        "_uuid": "43130e1a623d7a909260403eaae260c173b09075"
      },
      "cell_type": "code",
      "source": "",
      "execution_count": null,
      "outputs": []
    },
    {
      "metadata": {
        "trusted": true,
        "_uuid": "a8ced8b2578f6a23ffcae5807bd97c8a67eeac99"
      },
      "cell_type": "code",
      "source": "",
      "execution_count": null,
      "outputs": []
    },
    {
      "metadata": {
        "trusted": true,
        "_uuid": "64e5002a2b5a991fe4e59cbc2943158cc1cc1bb3"
      },
      "cell_type": "code",
      "source": "print(torch.__version__)\n!python --version",
      "execution_count": null,
      "outputs": []
    },
    {
      "metadata": {
        "trusted": true,
        "_uuid": "d966eb431111cd723dca78087b2e2630d08e1677"
      },
      "cell_type": "code",
      "source": "class Dataset(object):\n    \"\"\"An abstract class representing a Dataset.\n    All other datasets should subclass it. All subclasses should override\n    ``__len__``, that provides the size of the dataset, and ``__getitem__``,\n    supporting integer indexing in range from 0 to len(self) exclusive.\n    \"\"\"\n\n    def __getitem__(self, index):\n        raise NotImplementedError\n\n    def __len__(self):\n        raise NotImplementedError\n\n    def __add__(self, other):\n        return ConcatDataset([self, other])",
      "execution_count": 5,
      "outputs": []
    },
    {
      "metadata": {
        "trusted": true,
        "_uuid": "efb42795b78c85d261fced09ebec534cf1033d85"
      },
      "cell_type": "code",
      "source": "class ArabicDataset(Dataset):\n    \n    def __init__(self, file_path, transform=None):\n        self.data = pd.read_csv(file_path)\n        self.transform = transform\n        \n    def __len__(self):\n        return len(self.data)\n    \n    def __getitem__(self, index):\n        # load image as ndarray type (Height * Width * Channels)\n        # be carefull for converting dtype to np.uint8 [Unsigned integer (0 to 255)]\n        # in this example, i don't use ToTensor() method of torchvision.transforms\n        # so you can convert numpy ndarray shape to tensor in PyTorch (H, W, C) --> (C, H, W)\n        image = self.data.iloc[index, 1:].values.astype(np.uint8).reshape((1, 28, 28))\n        label = self.data.iloc[index, 0]\n        \n        if self.transform is not None:\n            image = self.transform(image)\n            \n        return image, label",
      "execution_count": 6,
      "outputs": []
    },
    {
      "metadata": {
        "trusted": true,
        "_uuid": "bb38062f5b62dc884ef79602c36ed037b00979f3"
      },
      "cell_type": "code",
      "source": "#train_dataset = pd.read_csv('../input/csvTrainImages 60k x 784.csv')\ntrain_dataset = ArabicDataset('../input/labeled-dataset/csvTrainImagesWLabels.csv', transform=None)\ntest_dataset = ArabicDataset('../input/labeled-test-data/csvTestImagesWLabels.csv', transform=None)",
      "execution_count": 8,
      "outputs": []
    },
    {
      "metadata": {
        "trusted": true,
        "_uuid": "b2fc7b8d3cab624a706ddf862740fed3daef72d7"
      },
      "cell_type": "code",
      "source": "train_dataset.__getitem__(0)\ntest_dataset.__getitem__(0)",
      "execution_count": 12,
      "outputs": [
        {
          "output_type": "execute_result",
          "execution_count": 12,
          "data": {
            "text/plain": "(array([[[  0,   0,   0,   0,   0,   0,   0,   0,   0,   0,   0,   0,\n            0,   0,   0,   0,   0,   0,   0,   0,   0,   0,   0,   0,\n            0,   0,   0,   0],\n         [  0,   0,   0,   0,   0,   0,   0,   0,   0,   0,   0,   0,\n            0,   0,   0,   0,   0,   0,   0,   0,   0,   0,   0,   0,\n            0,   0,   0,   0],\n         [  0,   0,   0,   0,   0,   0,   0,   0,   0,   0,   0,   0,\n            0,   0,   0,   0,   0,   0,   0,   0,   0,   0,   0,   0,\n            0,   0,   0,   0],\n         [  0,   0,   0,   0,   0,   0,   0,   0,   0,   0,   0,   0,\n            0,   0,   0,   0,   0,   0,   0,   0,   0,   0,   0,   0,\n            0,   0,   0,   0],\n         [  0,   0,   0,   0,   0,   0,   0,   0,   0,   0,   0,   0,\n            0,   0,   0,   0,   0,   0,   0,   0,   0,   0,   0,   0,\n            0,   0,   0,   0],\n         [  0,   0,   0,   0,   0,   0,   0,   0,   0,   0,   0,   0,\n            0,   0,   0,   0,   0,   0,   0,   0,   0,   0,   0,   0,\n            0,   0,   0,   0],\n         [  0,   0,   0,   0,   0,   0,   0,   0,   0,   0,   0,   0,\n            0,   0,   0,   0,   0,   0,   0,   0,   0,   0,   0,   0,\n            0,   0,   0,   0],\n         [  0,   0,   0,   0,   0,   0,   0,   0,   0,   0,   0,   0,\n            0,   0,   0,   0,   0,   0,   0,   0,   0,   0,   0,   0,\n            0,   0,   0,   0],\n         [  0,   0,   0,   0,   0,   0,   0,   0,   0,   0,   0,   0,\n            0,   0,   0,   0,   0,   0,   0,   0,   0,   0,   0,   0,\n            0,   0,   0,   0],\n         [  0,   0,   0,   0,   0,   0,   0,   0,   0,   0,   0,   0,\n            0,   0,   0,   0,   0,   0,   0,   0,   0,   0,   0,   0,\n            0,   0,   0,   0],\n         [  0,   0,   0,   0,   0,   0,   0,   0,   0,   0,   0,   0,\n            0,   0,   0,   0,   0,   0,   0,   0,   0,   0,   0,   0,\n            0,   0,   0,   0],\n         [  0,   0,   0,   0,   0,   0,   0,   0,   0,   0,   0,   0,\n            0,   0,   0,   0,   0,   0,   0,   0,   0,   0,   0,   0,\n            0,   0,   0,   0],\n         [  0,   0,   0,   0,   0,   1,  22,  19,  19,  19,  21,  13,\n           85, 128, 121, 122, 123, 115, 161, 255, 253, 255, 255, 234,\n          123,   0,   0,   0],\n         [  0,   0,   0,   0,   0, 178, 240, 232, 235, 235, 234, 232,\n          255, 255, 255, 255, 255, 255, 255, 255, 255, 240, 173,  63,\n            2,   0,   0,   0],\n         [  0,   0,   0,   0,   0, 255, 255, 255, 255, 255, 255, 255,\n          236, 233, 233, 240, 189, 118, 127, 131, 104,  19,   0,   0,\n            0,   0,   0,   0],\n         [  0,   0,   0,   0,   0,  65, 129, 120, 236, 224, 119, 104,\n           19,  19,  19,  21,   6,   0,   0,   0,   0,   0,   0,   2,\n            0,   0,   0,   0],\n         [  0,   0,   0,   0,   0,   0,   0,   0,   0,   0,   0,   0,\n            0,   0,   0,   0,   0,   0,   0,   0,   0,   0,   0,   0,\n            0,   0,   0,   0],\n         [  0,   0,   0,   0,   0,   0,   0,   0,   0,   0,   0,   0,\n            0,   0,   0,   0,   0,   0,   0,   0,   0,   0,   0,   0,\n            0,   0,   0,   0],\n         [  0,   0,   0,   0,   0,   0,   0,   0,   0,   0,   0,   0,\n            0,   0,   0,   0,   0,   0,   0,   0,   0,   0,   0,   0,\n            0,   0,   0,   0],\n         [  0,   0,   0,   0,   0,   0,   0,   0,   0,   0,   0,   0,\n            0,   0,   0,   0,   0,   0,   0,   0,   0,   0,   0,   0,\n            0,   0,   0,   0],\n         [  0,   0,   0,   0,   0,   0,   0,   0,   0,   0,   0,   0,\n            0,   0,   0,   0,   0,   0,   0,   0,   0,   0,   0,   0,\n            0,   0,   0,   0],\n         [  0,   0,   0,   0,   0,   0,   0,   0,   0,   0,   0,   0,\n            0,   0,   0,   0,   0,   0,   0,   0,   0,   0,   0,   0,\n            0,   0,   0,   0],\n         [  0,   0,   0,   0,   0,   0,   0,   0,   0,   0,   0,   0,\n            0,   0,   0,   0,   0,   0,   0,   0,   0,   0,   0,   0,\n            0,   0,   0,   0],\n         [  0,   0,   0,   0,   0,   0,   0,   0,   0,   0,   0,   0,\n            0,   0,   0,   0,   0,   0,   0,   0,   0,   0,   0,   0,\n            0,   0,   0,   0],\n         [  0,   0,   0,   0,   0,   0,   0,   0,   0,   0,   0,   0,\n            0,   0,   0,   0,   0,   0,   0,   0,   0,   0,   0,   0,\n            0,   0,   0,   0],\n         [  0,   0,   0,   0,   0,   0,   0,   0,   0,   0,   0,   0,\n            0,   0,   0,   0,   0,   0,   0,   0,   0,   0,   0,   0,\n            0,   0,   0,   0],\n         [  0,   0,   0,   0,   0,   0,   0,   0,   0,   0,   0,   0,\n            0,   0,   0,   0,   0,   0,   0,   0,   0,   0,   0,   0,\n            0,   0,   0,   0],\n         [  0,   0,   0,   0,   0,   0,   0,   0,   0,   0,   0,   0,\n            0,   0,   0,   0,   0,   0,   0,   0,   0,   0,   0,   0,\n            0,   0,   0,   0]]], dtype=uint8), 1)"
          },
          "metadata": {}
        }
      ]
    },
    {
      "metadata": {
        "trusted": true,
        "_uuid": "3812b3985e46b8aef3767d2c80f37128ed28e478"
      },
      "cell_type": "code",
      "source": "#train_loader = DataLoader(train_dataset, batch_size=8, shuffle=True)\n#test_loader = torch.utils.data.DataLoader(dataset=test_dataset,\n#                                          batch_size=batch_size,\n#                                          shuffle=True);",
      "execution_count": null,
      "outputs": []
    },
    {
      "metadata": {
        "trusted": true,
        "_uuid": "482f97ae90462a9b9295bbcda094ad9ebf2958db"
      },
      "cell_type": "code",
      "source": "#train_iter = iter(train_loader)\n#print(type(train_iter))",
      "execution_count": null,
      "outputs": []
    },
    {
      "metadata": {
        "trusted": true,
        "_uuid": "d577add143dae9ed571d8a329a199eb70ed60b2b"
      },
      "cell_type": "code",
      "source": "#images, labels = train_iter.next()\n\n#print('images shape on batch size = {}'.format(images.size()))\n#print('labels shape on batch size = {}'.format(labels.size()))",
      "execution_count": null,
      "outputs": []
    },
    {
      "metadata": {
        "trusted": true,
        "_uuid": "c41d560c29ee3c591b1736cf5c530909bc480c39"
      },
      "cell_type": "code",
      "source": "# make grid takes tensor as arg\n# tensor : (batchsize, channels, height, width)\n#grid = torchvision.utils.make_grid(images)\n\n#plt.imshow(grid.numpy().transpose((1, 2, 0)))\n#plt.axis('off')\n#plt.title(labels.numpy());",
      "execution_count": null,
      "outputs": []
    },
    {
      "metadata": {
        "trusted": true,
        "_uuid": "e0345e4f1a2d1b17d6b2af8c2f2469df183876bb"
      },
      "cell_type": "code",
      "source": "",
      "execution_count": null,
      "outputs": []
    },
    {
      "metadata": {
        "trusted": true,
        "_uuid": "d22000b57fbd80b6dcc606b0216d2f3546f906ed"
      },
      "cell_type": "code",
      "source": "",
      "execution_count": null,
      "outputs": []
    },
    {
      "metadata": {
        "trusted": true,
        "_uuid": "605ee1a5b6e1650d9eb9b7751cb71769eb12ed40"
      },
      "cell_type": "code",
      "source": "",
      "execution_count": null,
      "outputs": []
    },
    {
      "metadata": {
        "trusted": true,
        "_uuid": "471be5738bd8bd6f5ad83ed5e6b5a01582113fba"
      },
      "cell_type": "code",
      "source": "",
      "execution_count": null,
      "outputs": []
    },
    {
      "metadata": {
        "trusted": true,
        "_uuid": "3e8ebb3d4e59f466c6c276942ef6cda64a34e1c6"
      },
      "cell_type": "code",
      "source": "",
      "execution_count": null,
      "outputs": []
    },
    {
      "metadata": {
        "trusted": true,
        "_uuid": "19e86392b6ccec3cdba46af88c407e4e055fc6c1"
      },
      "cell_type": "code",
      "source": "",
      "execution_count": null,
      "outputs": []
    },
    {
      "metadata": {
        "trusted": true,
        "_uuid": "6722562a27d11277701504117e0c22ed8a3d411a"
      },
      "cell_type": "code",
      "source": "class NeuralNet(nn.Module):\n    \"\"\"A Neural Network with a hidden layer\"\"\"\n    def __init__(self, input_size,hidden_size,output_size):\n        super(NeuralNet, self).__init__()\n        self.layer1 = nn.Linear(input_size, hidden_size)\n        self.layer2 = nn.Linear(hidden_size, output_size)\n        self.relu = nn.ReLU()\n\n    def forward(self, x):\n        output = self.layer1(x)\n        output = self.relu(output)\n        output = self.layer2(output)\n        return output",
      "execution_count": null,
      "outputs": []
    },
    {
      "metadata": {
        "trusted": true,
        "_uuid": "d88783242b85e8edf8812c82dfcfd15b4b103681"
      },
      "cell_type": "code",
      "source": "input_size = 784\nhidden_size = 500\noutput_size = 10\nnum_epochs = 3\n\nlearning_rate = 0.001\n\nmodel = NeuralNet(input_size,hidden_size, output_size)\n\nlossFunction = nn.CrossEntropyLoss()\noptimizer = torch.optim.Adam(model.parameters(), lr=learning_rate)",
      "execution_count": null,
      "outputs": []
    },
    {
      "metadata": {
        "trusted": true,
        "_uuid": "e3e53ca302912621cd0659588f20831b70feccff"
      },
      "cell_type": "code",
      "source": "total_step = len(train_loader)\nfor epoch in range(num_epochs):\n    for i, (images,labels) in enumerate(train_loader):\n        #images = images.reshape(-1,28*28)\n        #show_batch(images)\n        out = model(images)\n        loss = lossFunction(out,labels)\n\n        optimizer.zero_grad()\n        loss.backward()\n        optimizer.step()\n\n        if (i+1) % 100 == 0:\n            print('Epoch [{}/{}], Step [{}/{}], Loss: {:.4f}' .format(epoch+1, num_epochs, i+1, total_step, loss.item()))\n",
      "execution_count": null,
      "outputs": []
    },
    {
      "metadata": {
        "trusted": true,
        "_uuid": "829e804558dfea7f2ce6106ff99f79883987a0cf"
      },
      "cell_type": "code",
      "source": "",
      "execution_count": null,
      "outputs": []
    },
    {
      "metadata": {
        "trusted": true,
        "_uuid": "8e98fa5087cd4e8a8ae1b7c8d3c22f930b18f754"
      },
      "cell_type": "code",
      "source": "",
      "execution_count": null,
      "outputs": []
    },
    {
      "metadata": {
        "trusted": true,
        "_uuid": "1e3615b05597ee8c5779acf17706a6970ff04bb0"
      },
      "cell_type": "code",
      "source": "num_epochs = 5;\nbatch_size = 100;\nlearning_rate = 0.001;",
      "execution_count": 14,
      "outputs": []
    },
    {
      "metadata": {
        "trusted": true,
        "_uuid": "02989c81e8f5e1062492d52cdb42249c2a4f9cd0"
      },
      "cell_type": "code",
      "source": "train_loader = torch.utils.data.DataLoader(dataset=train_dataset,\n                                           batch_size=batch_size,\n                                           shuffle=True);\n\ntest_loader = torch.utils.data.DataLoader(dataset=test_dataset,\n                                          batch_size=batch_size,\n                                          shuffle=True);",
      "execution_count": 15,
      "outputs": []
    },
    {
      "metadata": {
        "trusted": true,
        "_uuid": "97509c252a7df4156eca0f1d45522e1f3df7e2ea"
      },
      "cell_type": "code",
      "source": "class CNN(nn.Module):\n    def __init__(self):\n        super(CNN, self).__init__()\n        self.layer1 = nn.Sequential(\n            nn.Conv2d(1, 16, kernel_size=5, padding=2),\n            nn.BatchNorm2d(16),\n            nn.ReLU(),\n            nn.MaxPool2d(2))\n        self.layer2 = nn.Sequential(\n            nn.Conv2d(16, 32, kernel_size=5, padding=2),\n            nn.BatchNorm2d(32),\n            nn.ReLU(),\n            nn.MaxPool2d(2))\n        self.fc = nn.Linear(7*7*32, 10)\n        \n    def forward(self, x):\n        out = self.layer1(x)\n        out = self.layer2(out)\n        out = out.view(out.size(0), -1)\n        out = self.fc(out)\n        return out",
      "execution_count": 16,
      "outputs": []
    },
    {
      "metadata": {
        "trusted": true,
        "_uuid": "51433b459e34553018188805daeec667727b31ce"
      },
      "cell_type": "code",
      "source": "#instance of the Conv Net\ncnn = CNN();\n#loss function and optimizer\ncriterion = nn.CrossEntropyLoss();\noptimizer = torch.optim.Adam(cnn.parameters(), lr=learning_rate);",
      "execution_count": 17,
      "outputs": []
    },
    {
      "metadata": {
        "trusted": true,
        "_uuid": "8c22860997249e2562e511705a1da7963f9c248b"
      },
      "cell_type": "code",
      "source": "losses = [];\nfor epoch in range(num_epochs):\n    for i, (images, labels) in enumerate(train_loader):\n        images = Variable(images.float())\n        labels = Variable(labels)\n        \n        # Forward + Backward + Optimize\n        optimizer.zero_grad()\n        outputs = cnn(images)\n        loss = criterion(outputs, labels)\n        loss.backward()\n        optimizer.step()\n        \n        losses.append(loss.item());\n        \n        if (i+1) % 100 == 0:\n            print ('Epoch : %d/%d, Iter : %d/%d,  Loss: %.4f' \n                   %(epoch+1, num_epochs, i+1, len(train_dataset)//batch_size, loss.item()))",
      "execution_count": 18,
      "outputs": [
        {
          "output_type": "stream",
          "text": "Epoch : 1/5, Iter : 100/599,  Loss: 0.1165\nEpoch : 1/5, Iter : 200/599,  Loss: 0.0171\nEpoch : 1/5, Iter : 300/599,  Loss: 0.0205\nEpoch : 1/5, Iter : 400/599,  Loss: 0.0411\nEpoch : 1/5, Iter : 500/599,  Loss: 0.0248\nEpoch : 1/5, Iter : 600/599,  Loss: 0.1063\nEpoch : 2/5, Iter : 100/599,  Loss: 0.0112\nEpoch : 2/5, Iter : 200/599,  Loss: 0.0086\nEpoch : 2/5, Iter : 300/599,  Loss: 0.0075\nEpoch : 2/5, Iter : 400/599,  Loss: 0.0375\nEpoch : 2/5, Iter : 500/599,  Loss: 0.0147\nEpoch : 2/5, Iter : 600/599,  Loss: 0.0304\nEpoch : 3/5, Iter : 100/599,  Loss: 0.0055\nEpoch : 3/5, Iter : 200/599,  Loss: 0.0059\nEpoch : 3/5, Iter : 300/599,  Loss: 0.0009\nEpoch : 3/5, Iter : 400/599,  Loss: 0.0008\nEpoch : 3/5, Iter : 500/599,  Loss: 0.0233\nEpoch : 3/5, Iter : 600/599,  Loss: 0.0047\nEpoch : 4/5, Iter : 100/599,  Loss: 0.0059\nEpoch : 4/5, Iter : 200/599,  Loss: 0.0224\nEpoch : 4/5, Iter : 300/599,  Loss: 0.0027\nEpoch : 4/5, Iter : 400/599,  Loss: 0.0121\nEpoch : 4/5, Iter : 500/599,  Loss: 0.0317\nEpoch : 4/5, Iter : 600/599,  Loss: 0.0016\nEpoch : 5/5, Iter : 100/599,  Loss: 0.0112\nEpoch : 5/5, Iter : 200/599,  Loss: 0.1120\nEpoch : 5/5, Iter : 300/599,  Loss: 0.0044\nEpoch : 5/5, Iter : 400/599,  Loss: 0.0289\nEpoch : 5/5, Iter : 500/599,  Loss: 0.0013\nEpoch : 5/5, Iter : 600/599,  Loss: 0.0013\n",
          "name": "stdout"
        }
      ]
    },
    {
      "metadata": {
        "trusted": true,
        "_uuid": "e37b2b1f60c8aaa29056bea906107c4e26d8fa23"
      },
      "cell_type": "code",
      "source": "correct = 0\ntotal = 0\nfor images, labels in test_loader:\n    images = Variable(images.float())\n    outputs = cnn(images)\n    _, predicted = torch.max(outputs.data, 1)\n    total += labels.size(0)\n    correct += (predicted == labels).sum()\nprint('Test Accuracy of the model on the 10000 test images: %.4f %%' % (100 * correct / total))",
      "execution_count": 19,
      "outputs": [
        {
          "output_type": "stream",
          "text": "Test Accuracy of the model on the 10000 test images: 99.0000 %\n",
          "name": "stdout"
        }
      ]
    },
    {
      "metadata": {
        "trusted": true,
        "_uuid": "49398629b3d99cf88ef568c08b948d73d021f1fe"
      },
      "cell_type": "code",
      "source": "losses_in_epochs = losses[0::600]\nplt.xkcd();\nplt.xlabel('Epoch #');\nplt.ylabel('Loss');\nplt.plot(losses_in_epochs);\nplt.show();",
      "execution_count": 21,
      "outputs": [
        {
          "output_type": "stream",
          "text": "/opt/conda/lib/python3.6/site-packages/matplotlib/font_manager.py:1331: UserWarning: findfont: Font family ['xkcd', 'Humor Sans', 'Comic Sans MS'] not found. Falling back to DejaVu Sans\n  (prop.get_family(), self.defaultFamily[fontext]))\n",
          "name": "stderr"
        },
        {
          "output_type": "display_data",
          "data": {
            "text/plain": "<Figure size 432x288 with 1 Axes>",
            "image/png": "[encoded data removed]"
          },
          "metadata": {}
        }
      ]
    },
    {
      "metadata": {
        "trusted": true,
        "_uuid": "727bf7e7fb4cb5ee54bdc08e70244ad14f5f9fe0"
      },
      "cell_type": "code",
      "source": "def plot_kernels(tensor, num_cols=6):\n    num_kernels = tensor.shape[0]\n    num_rows = 1+ num_kernels // num_cols\n    fig = plt.figure(figsize=(num_cols,num_rows))\n    for i in range(num_kernels):\n        ax1 = fig.add_subplot(num_rows,num_cols,i+1)\n        ax1.imshow(tensor[i][0,:,:], cmap='gray')\n        ax1.axis('off')\n        ax1.set_xticklabels([])\n        ax1.set_yticklabels([])\nplt.subplots_adjust(wspace=0.1, hspace=0.1)\nplt.show()\nfilters = cnn.modules();\nmodel_layers = [i for i in cnn.children()];\nfirst_layer = model_layers[0];\nsecond_layer = model_layers[1];\nfirst_kernels = first_layer[0].weight.data.numpy()\nplot_kernels(first_kernels, 8)\nsecond_kernels = second_layer[0].weight.data.numpy()\nplot_kernels(second_kernels, 8)",
      "execution_count": 23,
      "outputs": [
        {
          "output_type": "display_data",
          "data": {
            "text/plain": "<Figure size 432x288 with 0 Axes>"
          },
          "metadata": {}
        },
        {
          "output_type": "display_data",
          "data": {
            "text/plain": "<Figure size 576x216 with 16 Axes>",
            "image/png": "[encoded data removed]"
          },
          "metadata": {}
        },
        {
          "output_type": "display_data",
          "data": {
            "text/plain": "<Figure size 576x360 with 32 Axes>",
            "image/png": "[encoded data removed]"
          },
          "metadata": {}
        }
      ]
    },
    {
      "metadata": {
        "trusted": true,
        "_uuid": "23e731e3f6653bc707a7d32e86956be6fda44f0b"
      },
      "cell_type": "code",
      "source": "",
      "execution_count": null,
      "outputs": []
    }
  ],
  "metadata": {
    "kernelspec": {
      "display_name": "Python 3",
      "language": "python",
      "name": "python3"
    },
    "language_info": {
      "name": "python",
      "version": "3.6.6",
      "mimetype": "text/x-python",
      "codemirror_mode": {
        "name": "ipython",
        "version": 3
      },
      "pygments_lexer": "ipython3",
      "nbconvert_exporter": "python",
      "file_extension": ".py"
    }
  },
  "nbformat": 4,
  "nbformat_minor": 1
}